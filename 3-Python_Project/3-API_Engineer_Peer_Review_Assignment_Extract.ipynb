{
 "cells": [
  {
   "cell_type": "markdown",
   "metadata": {},
   "source": [
    "<center>\n",
    "    <img src=\"https://gitlab.com/ibm/skills-network/courses/placeholder101/-/raw/master/labs/module%201/images/IDSNlogo.png\" width=\"300\" alt=\"cognitiveclass.ai logo\"  />\n",
    "</center>\n"
   ]
  },
  {
   "cell_type": "markdown",
   "metadata": {},
   "source": [
    "# Peer Review Assignment - Data Engineer - Extract API Data\n"
   ]
  },
  {
   "cell_type": "markdown",
   "metadata": {},
   "source": [
    "Estimated time needed: **20** minutes\n"
   ]
  },
  {
   "cell_type": "markdown",
   "metadata": {},
   "source": [
    "## Objectives\n",
    "\n",
    "In this part you will:\n",
    "\n",
    "*   Collect exchange rate data using an API\n",
    "*   Store the data as a CSV\n"
   ]
  },
  {
   "cell_type": "markdown",
   "metadata": {},
   "source": [
    "For this lab, we are going to be using Python and several Python libraries. Some of these libraries might be installed in your lab environment or in SN Labs. Others may need to be installed by you. The cells below will install these libraries when executed.\n"
   ]
  },
  {
   "cell_type": "code",
   "execution_count": null,
   "metadata": {},
   "outputs": [],
   "source": [
    "#!pip install pandas\n",
    "#!pip install requests"
   ]
  },
  {
   "cell_type": "markdown",
   "metadata": {},
   "source": [
    "## Imports\n",
    "\n",
    "Import any additional libraries you may need here.\n"
   ]
  },
  {
   "cell_type": "code",
   "execution_count": 9,
   "metadata": {},
   "outputs": [],
   "source": [
    "import requests\n",
    "import pandas as pd\n",
    "import json"
   ]
  },
  {
   "cell_type": "markdown",
   "metadata": {},
   "source": [
    "## Extract Data Using an API\n"
   ]
  },
  {
   "cell_type": "markdown",
   "metadata": {},
   "source": [
    "Using ExchangeRate-API we will extract currency exchange rate data. Use the below steps to get the access key and to get the data.\n",
    "\n",
    "1.  Open the url : [https://exchangeratesapi.io/](https://exchangeratesapi.io/?utm_medium=Exinfluencer&utm_source=Exinfluencer&utm_content=000026UJ&utm_term=10006555&utm_id=NA-SkillsNetwork-Channel-SkillsNetworkCoursesIBMDeveloperSkillsNetworkPY0221ENSkillsNetwork23455645-2021-01-01) and create a free account.\n",
    "2.  Once the account is created. You will get the Get the Free API key option on the top as shown below:\n",
    "\n",
    "<img src=\"https://cf-courses-data.s3.us.cloud-object-storage.appdomain.cloud/IBMDeveloperSkillsNetwork-PY0221EN-SkillsNetwork/labs/module%206/Final%20Assignment/Images/getapi.png\"/>\n",
    "\n",
    "3.  Copy the API key and use in the url in Question 1.\n"
   ]
  },
  {
   "cell_type": "markdown",
   "metadata": {},
   "source": [
    "### Call the API\n",
    "\n",
    "<b> Question 1</b> Using the `requests` library call the endpoint given above and save the text, remember the first few characters of the output:\n"
   ]
  },
  {
   "cell_type": "code",
   "execution_count": 17,
   "metadata": {},
   "outputs": [
    {
     "data": {
      "text/plain": [
       "'{\"success\":true,\"timestamp\":1643806445,\"base\":\"EUR\",\"date\":\"2022-02-02\",\"rates\":{\"AED\":4.157525,\"AFN\":112.642299,\"ALL\":121.454826,\"AMD\":546.173698,\"ANG\":2.040085,\"AOA\":595.917167,\"ARS\":118.986487,\"AUD\":1.582649,\"AWG\":2.038021,\"AZN\":1.923842,\"BAM\":1.956391,\"BBD\":2.285555,\"BDT\":97.319805,\"BGN\":1.956841,\"BHD\":0.426726,\"BIF\":2260.878283,\"BMD\":1.13192,\"BND\":1.525637,\"BOB\":7.793535,\"BRL\":5.959104,\"BSD\":1.131925,\"BTC\":2.9263721e-5,\"BTN\":84.809418,\"BWP\":13.093754,\"BYN\":2.926639,\"BYR\":22185.62349,\"BZD\":2.281654,\"CAD\":1.433503,\"CDF\":2279.122225,\"CHF\":1.039487,\"CLF\":0.032859,\"CLP\":906.667351,\"CNY\":7.200175,\"COP\":4443.395532,\"CRC\":728.32884,\"CUC\":1.13192,\"CUP\":29.995868,\"CVE\":110.298576,\"CZK\":24.279917,\"DJF\":201.519564,\"DKK\":7.438703,\"DOP\":65.279718,\"DZD\":158.584759,\"EGP\":17.782684,\"ERN\":16.978816,\"ETB\":56.781583,\"EUR\":1,\"FJD\":2.427005,\"FKP\":0.823947,\"GBP\":0.833913,\"GEL\":3.441302,\"GGP\":0.823947,\"GHS\":7.188088,\"GIP\":0.823946,\"GMD\":60.048827,\"GNF\":10300.935691,\"GTQ\":8.704696,\"GYD\":236.817905,\"HKD\":8.821672,\"HNL\":27.86399,\"HRK\":7.526586,\"HTG\":114.964965,\"HUF\":354.621338,\"IDR\":16244.460669,\"ILS\":3.576933,\"IMP\":0.823947,\"INR\":84.618917,\"IQD\":1652.083717,\"IRR\":47851.899789,\"ISK\":143.210332,\"JEP\":0.823947,\"JMD\":177.082777,\"JOD\":0.802521,\"JPY\":129.35241,\"KES\":128.533456,\"KGS\":95.979425,\"KHR\":4602.519723,\"KMF\":495.723898,\"KPW\":1018.727787,\"KRW\":1359.015958,\"KWD\":0.342294,\"KYD\":0.94327,\"KZT\":490.709376,\"LAK\":12841.982301,\"LBP\":1711.790838,\"LKR\":229.645248,\"LRD\":172.78738,\"LSL\":17.295786,\"LTL\":3.342264,\"LVL\":0.684687,\"LYD\":5.214195,\"MAD\":10.589436,\"MDL\":20.431759,\"MGA\":4516.78514,\"MKD\":61.648766,\"MMK\":2012.615396,\"MNT\":3235.96693,\"MOP\":9.086605,\"MRO\":404.09509,\"MUR\":49.803843,\"MVR\":17.487802,\"MWK\":924.756164,\"MXN\":23.185673,\"MYR\":4.737651,\"MZN\":72.250232,\"NAD\":17.295357,\"NGN\":470.618471,\"NIO\":40.133508,\"NOK\":9.925859,\"NPR\":135.694909,\"NZD\":1.702373,\"OMR\":0.435807,\"PAB\":1.131925,\"PEN\":4.398361,\"PGK\":3.97454,\"PHP\":57.767509,\"PKR\":199.45039,\"PLN\":4.544374,\"PYG\":7971.085623,\"QAR\":4.121277,\"RON\":4.947281,\"RSD\":117.607072,\"RUB\":85.82667,\"RWF\":1176.047219,\"SAR\":4.246522,\"SBD\":9.176524,\"SCR\":14.729385,\"SDG\":499.17607,\"SEK\":10.397264,\"SGD\":1.524809,\"SHP\":1.559109,\"SLL\":12960.479044,\"SOS\":662.173321,\"SRD\":23.63392,\"STD\":23428.449675,\"SVC\":9.90484,\"SYP\":2843.381695,\"SZL\":17.316665,\"THB\":37.556692,\"TJS\":12.77999,\"TMT\":4.267337,\"TND\":3.262222,\"TOP\":2.567137,\"TRY\":15.267501,\"TTD\":7.6711,\"TWD\":31.459401,\"TZS\":2616.998076,\"UAH\":32.117709,\"UGX\":3956.16934,\"USD\":1.13192,\"UYU\":49.710254,\"UZS\":12239.82964,\"VEF\":242038612422.89972,\"VND\":25637.978165,\"VUV\":128.666898,\"WST\":2.956962,\"XAF\":656.145143,\"XAG\":0.049567,\"XAU\":0.000627,\"XCD\":3.059069,\"XDR\":0.809732,\"XOF\":656.15674,\"XPF\":120.549616,\"YER\":283.263282,\"ZAR\":17.294489,\"ZMK\":10188.634441,\"ZMW\":20.573299,\"ZWL\":364.477638}}'"
      ]
     },
     "execution_count": 17,
     "metadata": {},
     "output_type": "execute_result"
    }
   ],
   "source": [
    "# Write your code here\n",
    "url = \"http://api.exchangeratesapi.io/v1/latest?base=EUR&access_key=********\"  #Make sure to change ******* to your API key.\n",
    "res = requests.get(url)\n",
    "data_json = res.json() #return json as dectionary\n",
    "res.text"
   ]
  },
  {
   "cell_type": "markdown",
   "metadata": {},
   "source": [
    "### Save as DataFrame\n",
    "\n",
    "<b> Question 2</b>  Using the data gathered turn it into a `pandas` dataframe. The dataframe should have the Currency as the index and `Rate` as their columns. Make sure to drop unnecessary columns.\n"
   ]
  },
  {
   "cell_type": "code",
   "execution_count": 69,
   "metadata": {},
   "outputs": [
    {
     "data": {
      "text/html": [
       "<div>\n",
       "<style scoped>\n",
       "    .dataframe tbody tr th:only-of-type {\n",
       "        vertical-align: middle;\n",
       "    }\n",
       "\n",
       "    .dataframe tbody tr th {\n",
       "        vertical-align: top;\n",
       "    }\n",
       "\n",
       "    .dataframe thead th {\n",
       "        text-align: right;\n",
       "    }\n",
       "</style>\n",
       "<table border=\"1\" class=\"dataframe\">\n",
       "  <thead>\n",
       "    <tr style=\"text-align: right;\">\n",
       "      <th></th>\n",
       "      <th>0</th>\n",
       "    </tr>\n",
       "  </thead>\n",
       "  <tbody>\n",
       "    <tr>\n",
       "      <th>AED</th>\n",
       "      <td>4.157525</td>\n",
       "    </tr>\n",
       "    <tr>\n",
       "      <th>AFN</th>\n",
       "      <td>112.642299</td>\n",
       "    </tr>\n",
       "    <tr>\n",
       "      <th>ALL</th>\n",
       "      <td>121.454826</td>\n",
       "    </tr>\n",
       "    <tr>\n",
       "      <th>AMD</th>\n",
       "      <td>546.173698</td>\n",
       "    </tr>\n",
       "    <tr>\n",
       "      <th>ANG</th>\n",
       "      <td>2.040085</td>\n",
       "    </tr>\n",
       "    <tr>\n",
       "      <th>...</th>\n",
       "      <td>...</td>\n",
       "    </tr>\n",
       "    <tr>\n",
       "      <th>YER</th>\n",
       "      <td>283.263282</td>\n",
       "    </tr>\n",
       "    <tr>\n",
       "      <th>ZAR</th>\n",
       "      <td>17.294489</td>\n",
       "    </tr>\n",
       "    <tr>\n",
       "      <th>ZMK</th>\n",
       "      <td>10188.634441</td>\n",
       "    </tr>\n",
       "    <tr>\n",
       "      <th>ZMW</th>\n",
       "      <td>20.573299</td>\n",
       "    </tr>\n",
       "    <tr>\n",
       "      <th>ZWL</th>\n",
       "      <td>364.477638</td>\n",
       "    </tr>\n",
       "  </tbody>\n",
       "</table>\n",
       "<p>168 rows × 1 columns</p>\n",
       "</div>"
      ],
      "text/plain": [
       "                0\n",
       "AED      4.157525\n",
       "AFN    112.642299\n",
       "ALL    121.454826\n",
       "AMD    546.173698\n",
       "ANG      2.040085\n",
       "..            ...\n",
       "YER    283.263282\n",
       "ZAR     17.294489\n",
       "ZMK  10188.634441\n",
       "ZMW     20.573299\n",
       "ZWL    364.477638\n",
       "\n",
       "[168 rows x 1 columns]"
      ]
     },
     "execution_count": 69,
     "metadata": {},
     "output_type": "execute_result"
    }
   ],
   "source": [
    "# Turn the data into a dataframe\n",
    "df = pd.json_normalize(data_json[\"rates\"]).T\n",
    "df"
   ]
  },
  {
   "cell_type": "code",
   "execution_count": 70,
   "metadata": {},
   "outputs": [
    {
     "data": {
      "text/html": [
       "<div>\n",
       "<style scoped>\n",
       "    .dataframe tbody tr th:only-of-type {\n",
       "        vertical-align: middle;\n",
       "    }\n",
       "\n",
       "    .dataframe tbody tr th {\n",
       "        vertical-align: top;\n",
       "    }\n",
       "\n",
       "    .dataframe thead th {\n",
       "        text-align: right;\n",
       "    }\n",
       "</style>\n",
       "<table border=\"1\" class=\"dataframe\">\n",
       "  <thead>\n",
       "    <tr style=\"text-align: right;\">\n",
       "      <th></th>\n",
       "      <th>Rate</th>\n",
       "    </tr>\n",
       "  </thead>\n",
       "  <tbody>\n",
       "    <tr>\n",
       "      <th>AED</th>\n",
       "      <td>4.157525</td>\n",
       "    </tr>\n",
       "    <tr>\n",
       "      <th>AFN</th>\n",
       "      <td>112.642299</td>\n",
       "    </tr>\n",
       "    <tr>\n",
       "      <th>ALL</th>\n",
       "      <td>121.454826</td>\n",
       "    </tr>\n",
       "    <tr>\n",
       "      <th>AMD</th>\n",
       "      <td>546.173698</td>\n",
       "    </tr>\n",
       "    <tr>\n",
       "      <th>ANG</th>\n",
       "      <td>2.040085</td>\n",
       "    </tr>\n",
       "  </tbody>\n",
       "</table>\n",
       "</div>"
      ],
      "text/plain": [
       "           Rate\n",
       "AED    4.157525\n",
       "AFN  112.642299\n",
       "ALL  121.454826\n",
       "AMD  546.173698\n",
       "ANG    2.040085"
      ]
     },
     "execution_count": 70,
     "metadata": {},
     "output_type": "execute_result"
    }
   ],
   "source": [
    "# Drop unnescessary columns\n",
    "df.columns = [\"Rate\"]\n",
    "df.head(5)"
   ]
  },
  {
   "cell_type": "markdown",
   "metadata": {},
   "source": [
    "### Load the Data\n",
    "\n",
    "Using the dataframe save it as a CSV names `exchange_rates_1.csv`.\n"
   ]
  },
  {
   "cell_type": "code",
   "execution_count": 71,
   "metadata": {},
   "outputs": [],
   "source": [
    "# Save the Dataframe\n",
    "with open('exchange_rates_1.csv', 'w') as f:\n",
    "    df.to_csv(f)"
   ]
  },
  {
   "cell_type": "markdown",
   "metadata": {},
   "source": [
    "Your CSV should be in this format with more currencies\n",
    "\n",
    "|     | Rates      |\n",
    "| --- | ---------- |\n",
    "| AED | 4.398618   |\n",
    "| AFN | 92.917693  |\n",
    "| ALL | 123.099093 |\n",
    "| AMD | 621.935674 |\n",
    "| ANG | 2.149648   |\n"
   ]
  },
  {
   "cell_type": "markdown",
   "metadata": {},
   "source": [
    "## Authors\n"
   ]
  },
  {
   "cell_type": "markdown",
   "metadata": {},
   "source": [
    "Ramesh Sannareddy, Joseph Santarcangelo and Azim Hirjani\n"
   ]
  },
  {
   "cell_type": "markdown",
   "metadata": {},
   "source": [
    "### Other Contributors\n"
   ]
  },
  {
   "cell_type": "markdown",
   "metadata": {},
   "source": [
    "Rav Ahuja\n"
   ]
  },
  {
   "cell_type": "markdown",
   "metadata": {},
   "source": [
    "## Change Log\n"
   ]
  },
  {
   "cell_type": "markdown",
   "metadata": {},
   "source": [
    "| Date (YYYY-MM-DD) | Version | Changed By        | Change Description                 |\n",
    "| ----------------- | ------- | ----------------- | ---------------------------------- |\n",
    "| 2021-04-15        | 0.2     | Malika            | Updated the lab from USD to EUR    |\n",
    "| 2020-11-25        | 0.1     | Ramesh Sannareddy | Created initial version of the lab |\n"
   ]
  },
  {
   "cell_type": "markdown",
   "metadata": {},
   "source": [
    "Copyright © 2020 IBM Corporation. This notebook and its source code are released under the terms of the [MIT License](https://cognitiveclass.ai/mit-license?utm_medium=Exinfluencer&utm_source=Exinfluencer&utm_content=000026UJ&utm_term=10006555&utm_id=NA-SkillsNetwork-Channel-SkillsNetworkCoursesIBMDeveloperSkillsNetworkPY0221ENSkillsNetwork23455645-2021-01-01&cm_mmc=Email_Newsletter-\\_-Developer_Ed%2BTech-\\_-WW_WW-\\_-SkillsNetwork-Courses-IBM-DA0321EN-SkillsNetwork-21426264&cm_mmca1=000026UJ&cm_mmca2=10006555&cm_mmca3=M12345678&cvosrc=email.Newsletter.M12345678&cvo_campaign=000026UJ).\n"
   ]
  }
 ],
 "metadata": {
  "kernelspec": {
   "display_name": "Python 3 (ipykernel)",
   "language": "python",
   "name": "python3"
  },
  "language_info": {
   "codemirror_mode": {
    "name": "ipython",
    "version": 3
   },
   "file_extension": ".py",
   "mimetype": "text/x-python",
   "name": "python",
   "nbconvert_exporter": "python",
   "pygments_lexer": "ipython3",
   "version": "3.9.7"
  }
 },
 "nbformat": 4,
 "nbformat_minor": 4
}
