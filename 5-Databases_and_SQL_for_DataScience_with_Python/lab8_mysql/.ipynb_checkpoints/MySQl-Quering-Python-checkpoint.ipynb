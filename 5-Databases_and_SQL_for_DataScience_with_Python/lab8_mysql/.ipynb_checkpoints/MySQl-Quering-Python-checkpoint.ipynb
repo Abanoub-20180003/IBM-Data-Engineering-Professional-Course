{
 "cells": [
  {
   "cell_type": "code",
   "execution_count": 2,
   "id": "762fa041",
   "metadata": {},
   "outputs": [],
   "source": [
    "#import mysql python db-api \n",
    "import mysql.connector\n",
    "from mysql.connector import Error "
   ]
  },
  {
   "cell_type": "markdown",
   "id": "63c5855a",
   "metadata": {},
   "source": [
    "### Create the database connection"
   ]
  },
  {
   "cell_type": "code",
   "execution_count": 3,
   "id": "3703f5c3",
   "metadata": {},
   "outputs": [
    {
     "name": "stdout",
     "output_type": "stream",
     "text": [
      "Connected to MySQL Server version  8.0.28\n",
      "You're connected to database:  ('mysql_learners',)\n"
     ]
    }
   ],
   "source": [
    "try:\n",
    "    #get connection object\n",
    "    conn = mysql.connector.connect(\n",
    "        host='localhost',\n",
    "        database='mysql_learners',\n",
    "        user='root',\n",
    "        password=''\n",
    "    )\n",
    "    #check if connection succeded\n",
    "    if conn.is_connected():\n",
    "        db_server_info = conn.get_server_info()\n",
    "        print(\"Connected to MySQL Server version \", db_server_info)\n",
    "        #db_info = conn.get_clinent_info()\n",
    "        cursor = conn.cursor()\n",
    "        cursor.execute(\"select database();\")\n",
    "        record = cursor.fetchone()\n",
    "        print(\"You're connected to database: \", record)\n",
    "except Error as e:\n",
    "    print(\"Error while connecting to MySQL\", e)  "
   ]
  },
  {
   "cell_type": "markdown",
   "id": "27ed3d78",
   "metadata": {},
   "source": [
    "### Create a table in the database"
   ]
  },
  {
   "cell_type": "code",
   "execution_count": 6,
   "id": "7b2457a7",
   "metadata": {},
   "outputs": [
    {
     "name": "stdout",
     "output_type": "stream",
     "text": [
      "Query run successfully\n"
     ]
    }
   ],
   "source": [
    "#Lets first drop the table INSTRUCTOR in case it exists from a previous attempt\n",
    "dropQuery = \"drop table if exists INSTRUCTOR\"\n",
    "\n",
    "try:\n",
    "    cursor.execute(dropQuery)\n",
    "except Error as e:\n",
    "    print(\"Error while execute dropQuery to MySQL\", e)\n",
    "else:\n",
    "    print(\"Query run successfully\")"
   ]
  },
  {
   "cell_type": "code",
   "execution_count": 9,
   "id": "ec6ef813",
   "metadata": {},
   "outputs": [
    {
     "name": "stdout",
     "output_type": "stream",
     "text": [
      "createQuery run successfully\n"
     ]
    }
   ],
   "source": [
    "#Lets first drop the table INSTRUCTOR in case it exists from a previous attempt\n",
    "createQuery = \"\"\"\n",
    "    create table INSTRUCTOR (\n",
    "        ID INT NOT NULL,\n",
    "        FNAME VARCHAR(20),\n",
    "        LNAME VARCHAR(20),\n",
    "        CITY VARCHAR(20),\n",
    "        CCODE CHAR(2),\n",
    "        PRIMARY KEY(ID)\n",
    "    );\n",
    "    \"\"\"\n",
    "\n",
    "try:\n",
    "    cursor.execute(createQuery)\n",
    "except Error as e:\n",
    "    print(\"Error while execute createQuery to MySQL\", e)\n",
    "else:\n",
    "    print(\"createQuery run successfully\")"
   ]
  },
  {
   "cell_type": "markdown",
   "id": "a1b286a7",
   "metadata": {},
   "source": [
    "###  Insert data into the table"
   ]
  },
  {
   "cell_type": "code",
   "execution_count": 11,
   "id": "f3202410",
   "metadata": {},
   "outputs": [
    {
     "name": "stdout",
     "output_type": "stream",
     "text": [
      "insertQuery run successfully\n"
     ]
    }
   ],
   "source": [
    "insertQuery = \"\"\"\n",
    "    insert into INSTRUCTOR \n",
    "    values(1,'Rav', 'Ahuja','torno','ca'),\n",
    "        (2,'Ravaa', 'Ajaa','marko','ca'),\n",
    "        (3,'beboo', 'kemoo','gizaaa','eg');\n",
    "    \"\"\"\n",
    "\n",
    "try:\n",
    "    cursor.execute(insertQuery)\n",
    "except Error as e:\n",
    "    print(\"Error while execute insertQuery to MySQL\", e)\n",
    "else:\n",
    "    print(\"insertQuery run successfully\")"
   ]
  },
  {
   "cell_type": "markdown",
   "id": "f9ae56b7",
   "metadata": {},
   "source": [
    "### Query data in the table"
   ]
  },
  {
   "cell_type": "code",
   "execution_count": 14,
   "id": "5b641b80",
   "metadata": {},
   "outputs": [
    {
     "name": "stdout",
     "output_type": "stream",
     "text": [
      "Error while execute selectQuery to MySQL Unread result found\n",
      "(1, 'Rav', 'Ahuja', 'torno', 'ca')\n",
      "[(2, 'Ravaa', 'Ajaa', 'marko', 'ca'), (3, 'beboo', 'kemoo', 'gizaaa', 'eg')]\n"
     ]
    }
   ],
   "source": [
    "selectQuery = \"select * from INSTRUCTOR\"\n",
    "\n",
    "try:\n",
    "    cursor.execute(selectQuery)\n",
    "except Error as e:\n",
    "    print(\"Error while execute selectQuery to MySQL\", e)\n",
    "else:\n",
    "    print(\"selectQuery run successfully\")\n",
    "\n",
    "#Fetching 1st row from the table\n",
    "result = cursor.fetchone();\n",
    "print(result)\n",
    "\n",
    "#Fetching 1st row from the table\n",
    "result = cursor.fetchall();\n",
    "print(result)"
   ]
  },
  {
   "cell_type": "markdown",
   "id": "d3fa1616",
   "metadata": {},
   "source": [
    "### Retrieve data into Pandas"
   ]
  },
  {
   "cell_type": "code",
   "execution_count": 17,
   "id": "16a972b1",
   "metadata": {},
   "outputs": [],
   "source": [
    "import pandas as pd"
   ]
  },
  {
   "cell_type": "code",
   "execution_count": 18,
   "id": "2c289209",
   "metadata": {},
   "outputs": [
    {
     "data": {
      "text/html": [
       "<div>\n",
       "<style scoped>\n",
       "    .dataframe tbody tr th:only-of-type {\n",
       "        vertical-align: middle;\n",
       "    }\n",
       "\n",
       "    .dataframe tbody tr th {\n",
       "        vertical-align: top;\n",
       "    }\n",
       "\n",
       "    .dataframe thead th {\n",
       "        text-align: right;\n",
       "    }\n",
       "</style>\n",
       "<table border=\"1\" class=\"dataframe\">\n",
       "  <thead>\n",
       "    <tr style=\"text-align: right;\">\n",
       "      <th></th>\n",
       "      <th>ID</th>\n",
       "      <th>FNAME</th>\n",
       "      <th>LNAME</th>\n",
       "      <th>CITY</th>\n",
       "      <th>CCODE</th>\n",
       "    </tr>\n",
       "  </thead>\n",
       "  <tbody>\n",
       "    <tr>\n",
       "      <th>0</th>\n",
       "      <td>1</td>\n",
       "      <td>Rav</td>\n",
       "      <td>Ahuja</td>\n",
       "      <td>torno</td>\n",
       "      <td>ca</td>\n",
       "    </tr>\n",
       "    <tr>\n",
       "      <th>1</th>\n",
       "      <td>2</td>\n",
       "      <td>Ravaa</td>\n",
       "      <td>Ajaa</td>\n",
       "      <td>marko</td>\n",
       "      <td>ca</td>\n",
       "    </tr>\n",
       "    <tr>\n",
       "      <th>2</th>\n",
       "      <td>3</td>\n",
       "      <td>beboo</td>\n",
       "      <td>kemoo</td>\n",
       "      <td>gizaaa</td>\n",
       "      <td>eg</td>\n",
       "    </tr>\n",
       "  </tbody>\n",
       "</table>\n",
       "</div>"
      ],
      "text/plain": [
       "   ID  FNAME  LNAME    CITY CCODE\n",
       "0   1    Rav  Ahuja   torno    ca\n",
       "1   2  Ravaa   Ajaa   marko    ca\n",
       "2   3  beboo  kemoo  gizaaa    eg"
      ]
     },
     "execution_count": 18,
     "metadata": {},
     "output_type": "execute_result"
    }
   ],
   "source": [
    "df = pd.read_sql(selectQuery, conn)\n",
    "df"
   ]
  },
  {
   "cell_type": "markdown",
   "id": "3de68889",
   "metadata": {},
   "source": [
    "### Close the Connection"
   ]
  },
  {
   "cell_type": "code",
   "execution_count": 19,
   "id": "c5dda07f",
   "metadata": {},
   "outputs": [],
   "source": [
    "cursor.close()\n",
    "conn.close()\n"
   ]
  },
  {
   "cell_type": "code",
   "execution_count": null,
   "id": "6868e402",
   "metadata": {},
   "outputs": [],
   "source": []
  }
 ],
 "metadata": {
  "kernelspec": {
   "display_name": "Python 3 (ipykernel)",
   "language": "python",
   "name": "python3"
  },
  "language_info": {
   "codemirror_mode": {
    "name": "ipython",
    "version": 3
   },
   "file_extension": ".py",
   "mimetype": "text/x-python",
   "name": "python",
   "nbconvert_exporter": "python",
   "pygments_lexer": "ipython3",
   "version": "3.9.7"
  }
 },
 "nbformat": 4,
 "nbformat_minor": 5
}
