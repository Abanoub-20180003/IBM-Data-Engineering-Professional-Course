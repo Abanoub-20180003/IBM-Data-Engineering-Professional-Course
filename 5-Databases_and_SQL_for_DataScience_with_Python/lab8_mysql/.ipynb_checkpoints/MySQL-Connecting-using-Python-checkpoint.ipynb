{
 "cells": [
  {
   "cell_type": "code",
   "execution_count": 1,
   "id": "62330fe6",
   "metadata": {},
   "outputs": [
    {
     "name": "stdout",
     "output_type": "stream",
     "text": [
      "Collecting mysql-connector-python\n",
      "  Downloading mysql_connector_python-8.0.28-cp39-cp39-win_amd64.whl (7.2 MB)\n",
      "Requirement already satisfied: protobuf>=3.0.0 in e:\\anaconda\\lib\\site-packages (from mysql-connector-python) (3.19.1)\n",
      "Installing collected packages: mysql-connector-python\n",
      "Successfully installed mysql-connector-python-8.0.28\n"
     ]
    }
   ],
   "source": [
    "#install mysql-connector-python package\n",
    "\n",
    "!pip install mysql-connector-python"
   ]
  },
  {
   "cell_type": "code",
   "execution_count": 2,
   "id": "7e5534de",
   "metadata": {},
   "outputs": [],
   "source": [
    "#import mysql python db-api \n",
    "import mysql.connector\n",
    "from mysql.connector import Error "
   ]
  },
  {
   "cell_type": "markdown",
   "id": "c3bf62de",
   "metadata": {},
   "source": [
    "###  Connect to MySQL Database in Python"
   ]
  },
  {
   "cell_type": "code",
   "execution_count": 4,
   "id": "24266091",
   "metadata": {},
   "outputs": [
    {
     "name": "stdout",
     "output_type": "stream",
     "text": [
      "Connected to MySQL Server version  8.0.28\n",
      "You're connected to database:  ('hr',)\n"
     ]
    }
   ],
   "source": [
    "try:\n",
    "    #get connection object\n",
    "    conn = mysql.connector.connect(\n",
    "        host='localhost',\n",
    "        database='hr',\n",
    "        user='root',\n",
    "        password=''\n",
    "    )\n",
    "    #check if connection succeded\n",
    "    if conn.is_connected():\n",
    "        db_server_info = conn.get_server_info()\n",
    "        print(\"Connected to MySQL Server version \", db_server_info)\n",
    "        #db_info = conn.get_clinent_info()\n",
    "        cursor = conn.cursor()\n",
    "        cursor.execute(\"select database();\")\n",
    "        record = cursor.fetchone()\n",
    "        print(\"You're connected to database: \", record)\n",
    "except Error as e:\n",
    "    print(\"Error while connecting to MySQL\", e)  \n",
    "        \n",
    "        \n",
    "    "
   ]
  },
  {
   "cell_type": "markdown",
   "id": "5aeb3aac",
   "metadata": {},
   "source": [
    "### Close the Connection"
   ]
  },
  {
   "cell_type": "code",
   "execution_count": 6,
   "id": "e93abe26",
   "metadata": {},
   "outputs": [
    {
     "name": "stdout",
     "output_type": "stream",
     "text": [
      "MySQL connection is closed\n"
     ]
    }
   ],
   "source": [
    "cursor.close()\n",
    "conn.close()\n",
    "print(\"MySQL connection is closed\")"
   ]
  },
  {
   "cell_type": "code",
   "execution_count": null,
   "id": "d0a57e61",
   "metadata": {},
   "outputs": [],
   "source": []
  }
 ],
 "metadata": {
  "kernelspec": {
   "display_name": "Python 3 (ipykernel)",
   "language": "python",
   "name": "python3"
  },
  "language_info": {
   "codemirror_mode": {
    "name": "ipython",
    "version": 3
   },
   "file_extension": ".py",
   "mimetype": "text/x-python",
   "name": "python",
   "nbconvert_exporter": "python",
   "pygments_lexer": "ipython3",
   "version": "3.9.7"
  }
 },
 "nbformat": 4,
 "nbformat_minor": 5
}
